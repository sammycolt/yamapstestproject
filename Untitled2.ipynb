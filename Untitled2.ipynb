{
 "cells": [
  {
   "cell_type": "code",
   "execution_count": 1,
   "metadata": {
    "colab": {},
    "colab_type": "code",
    "id": "IHk1_bA7o2M-"
   },
   "outputs": [],
   "source": [
    "from urllib.request import urlopen\n",
    "response = urlopen(\"https://www.hse.ru/buildinghse/list\")\n",
    "html = response.read()\n",
    "\n",
    "from bs4 import BeautifulSoup\n",
    "soup = BeautifulSoup(html, 'html.parser')\n",
    "addrs = soup.find_all(\"h3\", {\"class\": 'with-indent2'})\n",
    "addrs_p = [i.text[:-20].rstrip() for i in addrs]"
   ]
  },
  {
   "cell_type": "code",
   "execution_count": 2,
   "metadata": {
    "colab": {},
    "colab_type": "code",
    "id": "UHDaTPTUqN5Z"
   },
   "outputs": [],
   "source": [
    "def get_lat_lon(address):\n",
    "  import requests\n",
    "  url = \"https://geocode-maps.yandex.ru/1.x/?\"\n",
    "  params = 'format=json&geocode=' + address\n",
    "  r = requests.get(url + params).json()\n",
    "  return tuple(r['response']['GeoObjectCollection']['featureMember'][0]['GeoObject']['Point']['pos'].split()[::-1])"
   ]
  },
  {
   "cell_type": "code",
   "execution_count": 3,
   "metadata": {
    "colab": {},
    "colab_type": "code",
    "id": "qrequMZzrasy"
   },
   "outputs": [],
   "source": [
    "import json\n",
    "class GeoObject:\n",
    "  def __init__(self, desc, lat, lon):\n",
    "    self.description = desc\n",
    "    self.lat = lat\n",
    "    self.lon = lon\n",
    "  def __repr__(self):\n",
    "    return json.dumps(self, default=lambda o: o.__dict__, \n",
    "            sort_keys=True, indent=4)\n",
    "  def __str__(self):\n",
    "    return self.__repr__()\n",
    "\n",
    "geoobjects = []\n",
    "for i in addrs_p:\n",
    "  lat, lon = get_lat_lon(i)\n",
    "  geoobjects.append(GeoObject(desc=i, lat=lat, lon=lon))"
   ]
  },
  {
   "cell_type": "code",
   "execution_count": 4,
   "metadata": {
    "colab": {
     "base_uri": "https://localhost:8080/",
     "height": 54
    },
    "colab_type": "code",
    "executionInfo": {
     "elapsed": 603,
     "status": "ok",
     "timestamp": 1558179272735,
     "user": {
      "displayName": "Obukhov Semen",
      "photoUrl": "https://lh5.googleusercontent.com/-Eu9kboB78NM/AAAAAAAAAAI/AAAAAAAAAHU/-kJEQ6uBqMc/s64/photo.jpg",
      "userId": "01042063637311891221"
     },
     "user_tz": -180
    },
    "id": "_lRkaiN3tSOS",
    "outputId": "66c496df-667e-407b-9312-615a512a3a4e"
   },
   "outputs": [
    {
     "name": "stdout",
     "output_type": "stream",
     "text": [
      "{'description': 'Армянский переулок, д. 4, стр. 2', 'lat': '55.75937', 'lon': '37.636392'}\n"
     ]
    }
   ],
   "source": [
    "print(json.loads(str(geoobjects[0])))"
   ]
  },
  {
   "cell_type": "code",
   "execution_count": 9,
   "metadata": {},
   "outputs": [],
   "source": [
    "f = open(\"addrs.json\", \"w\")\n",
    "f.write(str(geoobjects))\n",
    "f.close()"
   ]
  },
  {
   "cell_type": "code",
   "execution_count": null,
   "metadata": {},
   "outputs": [],
   "source": []
  }
 ],
 "metadata": {
  "colab": {
   "name": "Untitled2.ipynb",
   "provenance": [],
   "version": "0.3.2"
  },
  "kernelspec": {
   "display_name": "Python 3",
   "language": "python",
   "name": "python3"
  },
  "language_info": {
   "codemirror_mode": {
    "name": "ipython",
    "version": 3
   },
   "file_extension": ".py",
   "mimetype": "text/x-python",
   "name": "python",
   "nbconvert_exporter": "python",
   "pygments_lexer": "ipython3",
   "version": "3.7.3"
  }
 },
 "nbformat": 4,
 "nbformat_minor": 2
}
